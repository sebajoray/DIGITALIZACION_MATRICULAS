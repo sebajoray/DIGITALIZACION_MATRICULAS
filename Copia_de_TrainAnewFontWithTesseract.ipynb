{
  "nbformat": 4,
  "nbformat_minor": 0,
  "metadata": {
    "colab": {
      "provenance": [],
      "include_colab_link": true
    },
    "kernelspec": {
      "name": "python3",
      "display_name": "Python 3"
    },
    "language_info": {
      "name": "python"
    }
  },
  "cells": [
    {
      "cell_type": "markdown",
      "metadata": {
        "id": "view-in-github",
        "colab_type": "text"
      },
      "source": [
        "<a href=\"https://colab.research.google.com/github/sebajoray/DIGITALIZACION_MATRICULAS/blob/master/Copia_de_TrainAnewFontWithTesseract.ipynb\" target=\"_parent\"><img src=\"https://colab.research.google.com/assets/colab-badge.svg\" alt=\"Open In Colab\"/></a>"
      ]
    },
    {
      "cell_type": "markdown",
      "metadata": {
        "id": "TiFG5vFZQDZl"
      },
      "source": [
        "#**DOWNLOAD THESE REQUIRED FILES FROM TESSERACT GITHUB PAGE**\n",
        "\n",
        "Download these required files from github and upload to **Google Drive** \n",
        "\n",
        "***1. Tesseract 4.1*** :-\n",
        "\n",
        "---\n",
        "\n",
        "\n",
        "https://github.com/tesseract-ocr/tesseract/tree/4.1\n",
        "\n",
        "***2. Download any TRAINEDDATA***\n",
        "\n",
        "https://github.com/tesseract-ocr/tessdata_best\n",
        "\n",
        "\n",
        "\n",
        "You just have to download one trained data.\n",
        "for example **eng.traineddata** , if you want to train for English language.\n",
        "\n",
        "** ▶ important ◀**\n",
        "\n",
        "---\n",
        "\n",
        "After downloading it , put **eng.traineddata** inside the downloaded tesseract folder **tesseract/tessdata**\n",
        "\n",
        "***3. Langdata lstm*** :-\n",
        "\n",
        "---\n",
        "\n",
        "https://github.com/tesseract-ocr/langdata_lstm\n",
        "\n",
        "***The size of the file is too big.*** you dont have to download the whole directory.\n",
        "You just have to download only some important directory.\n",
        "So download this chrome extension extension. This will allow you to select and download specific directory and files.\n",
        "\n",
        "https://chrome.google.com/webstore/detail/gitzip-for-github/ffabmkklhbepgcgfonabamgnfafbdlkn\n",
        "\n",
        "\n",
        "***IMPORTANT FOLDER AND FILES TO DOWNLOAD FROM LANGDATA LSTM ***\n",
        "\n",
        "---\n",
        "\n",
        "\n",
        "1. Specific language Code folder , for example **'eng'** folder for english\n",
        "2. **Licence**\n",
        "3. **desired_bigrams.txt**\n",
        "4. **font_properties**\n",
        "5. **radical-stroke.txt**\n",
        "6. **forbidden_characters_default**\n",
        "7. In some case you also need to download **Latin.unicharset** and **Latin.xheights** , Other wise it will throw some errors.\n",
        "\n",
        "FOLDER STRUCTURE ▶\n",
        "\n",
        "    ------tesseract\n",
        "    |         |----tessdata\n",
        "    |                |---eng.traineddata\n",
        "    |\n",
        "    ------langdata_lstm\n",
        "\n",
        "\n",
        "\n",
        "FINALLY , UPLOAD EVERYTHING TO ***GOOGLE DRIVE*** ROOT FOLDER\n",
        "\n",
        "\n"
      ]
    },
    {
      "cell_type": "markdown",
      "metadata": {
        "id": "1j5KIFyiHABY"
      },
      "source": [
        "\n",
        "\n",
        "#**#1 INSTALL TESSERACT**\n",
        "\n",
        "---\n",
        "\n"
      ]
    },
    {
      "cell_type": "code",
      "metadata": {
        "id": "0zGWFQbcLXhc",
        "outputId": "56c046c9-b5f7-4cc3-a3fc-4b61ddfc8ff0",
        "colab": {
          "base_uri": "https://localhost:8080/"
        }
      },
      "source": [
        "!sudo apt install tesseract-ocr"
      ],
      "execution_count": null,
      "outputs": [
        {
          "output_type": "stream",
          "name": "stdout",
          "text": [
            "Reading package lists... Done\n",
            "Building dependency tree       \n",
            "Reading state information... Done\n",
            "The following additional packages will be installed:\n",
            "  tesseract-ocr-eng tesseract-ocr-osd\n",
            "The following NEW packages will be installed:\n",
            "  tesseract-ocr tesseract-ocr-eng tesseract-ocr-osd\n",
            "0 upgraded, 3 newly installed, 0 to remove and 34 not upgraded.\n",
            "Need to get 4,850 kB of archives.\n",
            "After this operation, 16.3 MB of additional disk space will be used.\n",
            "Get:1 http://archive.ubuntu.com/ubuntu focal/universe amd64 tesseract-ocr-eng all 1:4.00~git30-7274cfa-1 [1,598 kB]\n",
            "Get:2 http://archive.ubuntu.com/ubuntu focal/universe amd64 tesseract-ocr-osd all 1:4.00~git30-7274cfa-1 [2,990 kB]\n",
            "Get:3 http://archive.ubuntu.com/ubuntu focal/universe amd64 tesseract-ocr amd64 4.1.1-2build2 [262 kB]\n",
            "Fetched 4,850 kB in 2s (2,714 kB/s)\n",
            "debconf: unable to initialize frontend: Dialog\n",
            "debconf: (No usable dialog-like program is installed, so the dialog based frontend cannot be used. at /usr/share/perl5/Debconf/FrontEnd/Dialog.pm line 76, <> line 3.)\n",
            "debconf: falling back to frontend: Readline\n",
            "debconf: unable to initialize frontend: Readline\n",
            "debconf: (This frontend requires a controlling tty.)\n",
            "debconf: falling back to frontend: Teletype\n",
            "dpkg-preconfigure: unable to re-open stdin: \n",
            "Selecting previously unselected package tesseract-ocr-eng.\n",
            "(Reading database ... 122545 files and directories currently installed.)\n",
            "Preparing to unpack .../tesseract-ocr-eng_1%3a4.00~git30-7274cfa-1_all.deb ...\n",
            "Unpacking tesseract-ocr-eng (1:4.00~git30-7274cfa-1) ...\n",
            "Selecting previously unselected package tesseract-ocr-osd.\n",
            "Preparing to unpack .../tesseract-ocr-osd_1%3a4.00~git30-7274cfa-1_all.deb ...\n",
            "Unpacking tesseract-ocr-osd (1:4.00~git30-7274cfa-1) ...\n",
            "Selecting previously unselected package tesseract-ocr.\n",
            "Preparing to unpack .../tesseract-ocr_4.1.1-2build2_amd64.deb ...\n",
            "Unpacking tesseract-ocr (4.1.1-2build2) ...\n",
            "Setting up tesseract-ocr-eng (1:4.00~git30-7274cfa-1) ...\n",
            "Setting up tesseract-ocr-osd (1:4.00~git30-7274cfa-1) ...\n",
            "Setting up tesseract-ocr (4.1.1-2build2) ...\n",
            "Processing triggers for man-db (2.9.1-1) ...\n"
          ]
        }
      ]
    },
    {
      "cell_type": "markdown",
      "metadata": {
        "id": "egfJBI0-HOd2"
      },
      "source": [
        "#**#2 CREATE FOLDERS**\n",
        "\n",
        "---\n",
        "**fonts**   ▶    &nbsp;&nbsp;&nbsp; fonts to be uploaded <br>\n",
        "**train**   ▶    &nbsp;&nbsp;&nbsp;&nbsp; Data for training to be generated<br>\n",
        "**output**  ▶    &nbsp; Output of trained data\n"
      ]
    },
    {
      "cell_type": "code",
      "metadata": {
        "id": "mWmLuBbVNDpD"
      },
      "source": [
        "!mkdir fonts output train"
      ],
      "execution_count": null,
      "outputs": []
    },
    {
      "cell_type": "markdown",
      "metadata": {
        "id": "sq9Nqpa59fuQ"
      },
      "source": [
        "#**#3 UPLOAD YOUR FONT IN FONTS DIRECTORY**\n",
        "\n",
        "---\n"
      ]
    },
    {
      "cell_type": "markdown",
      "metadata": {
        "id": "fycSa7D-gSDT"
      },
      "source": [
        "![fontdir.png](data:image/png;base64,iVBORw0KGgoAAAANSUhEUgAAAVQAAAEmCAYAAAA9eGh/AAAAAXNSR0IArs4c6QAAAARnQU1BAACxjwv8YQUAAAAJcEhZcwAADsIAAA7CARUoSoAAAC69SURBVHhe7d0PfBT1nTfwD4JEsRdFCdJ7iLZxLWJQIbbNhaMaKpCUHuCfXIpibA1BS4kWy6OhqTbJ1cYEnpxUAxQN6dVIxZjTC97xEKmyKiXlKgtVIgIhrS6vKxKBmgq4SMz9vrMzyWSzm2x2Zzf75/P2Ne7O7Ozu7JJ88vs38xvWpYCIiIJ2jn5LRERBYqASEVmEgUpEZJFhBw4cYBsqEZEF2ClFRBSkgwcP4sorr2SVn4jIKgxUIiKLMFCJiCzCQCUisggDlShYbTXoSL4Sx7XlFnzapm8Pp17HUIQz+mbvXsMn3fu6l451f9IfC6HfFuH4t2vQqa/GIgYqUZw5s+zePoF7zhVf1u+FgASpBPfdL+obYhcDlSiu/Amfv6ffVUb+6iAudh7EF2boG0Kg89AB/V7sY6BSHDFXdU1Vc6/VZfO+su1P+PTbxrpalr2m7TWwvtVrX1XyznW3eOznXrxVx88sM+8zUBXfIMcyC6fe1leVM3er5/eqhvtzvJ7fjcdzTK8nx/nxo3v1NeXtSnys9glLE8MQYKASDeiACtPeQYT6ewcOBa2q27d6DbyoBdAnv9VXlT7BY3L20Vm93kv2/aReX9Go17uxEmf1tYAN4nh7yGMez5HQ9PsPTmxhoFLMONO0FWdb9ulrVtqrwqoIF6qq8cW/ulXfJkH3Sy/hY1ClNlOboVG1Nj//zN1Gye81nOkOyEkY9XrffbvfS5WmPzWFaXeVPVff0K9v4gvOVzDqWn1V0Z7/XwUYPqjj9ZC7rs++qG/S9h1ZdRAXPjzJvU1c6/4eE+8NYZvtEGKgUkw4WfIzuJ7diBGpE/Ut1hr5gISOMuP7pkB6EWe8ltqU37oDRaNC5HyjjdLr8yXo9ABzvoTzUvTmBW+dOG0He0qiptcd+S1TmAViUMfb28hvfdN9J+VKjHDfi1sMVIooEownl/8UnyxZio4787vv+7qVfU587Rv4tPYZDJ/wFf1VopDRE64tHs0L/mCYRQQGKg0pc4AeT/0qXL+qg2vDczjz8macfWN7931ft7JP14cfYsSXv4RRDxfprxplpFPMXBo1qtCvF/kfkuaSKw0ZBmqMkXbEz5p36muR5VTF/+tVsvQMUPytA5CLnw0b5n6Ccd/XrW74ly7HhW9s1df8tRdntro7es6sHrhD58zjes/1b39pKj1OwogU/a6nGVkYqd+VTprTRlW51/NvxUipWntU4y+sclehvR6Xj9c98/+DHOM5mOMdpOFXRHHNYZAYqDHE9cKL+KTgB/jsVbu+JXJ03PE9nF7zVK+Spc8ANd/3dasbXJh+EyNNnTfSey5V7N495j7ow32O9ypJ3ofzfAWqtIv26tDRq/O9On4q3SFmrq4b7+PzuL6J802dPMbr+vUZ+jWI4x0sL5+Pw6YookmYnvxREc754rghrfpKKbTjO3laCdRoA/1rRiY+275DLr7bKwy9Bqj5vq9bXSAl05FVvXu53b3q6wYMipG/8nieVMv1kqRPMypV1d3ba9+qdUJ1D6ZPKUCiuYdcI/uY3/MAPtfHzQ6/9yWPXn3Zd+DPMCB/j3ew1Oe7wNzTr5w9EJuBqn7G5aeUopkRpiLhu3figkdLtPvhIiF6du+76Dr8P+g8dAhdGNaTez7C0FgfMeU6nPsPX8fZP74DjBih9dLL0Cevt7KPPPWTkzhn3KX4Qs0abT00ZLB6z/hKGUYUyrOJyBoffPABNm7ciMLCQowaNUrf6t2pU6dQXV2N+fPn47LLLtO3Bsa4wDQDNcqZw1Scd29BWEqoEqKfH23H5/v247OWd1WEKj5C07y9O0BVSF5Q8TOcM/7/aNsjDwM1GlVWVmL//v1aQD700EM+Q1XCdMWKFVoAT5gwAUVFwf3OMFBjgHRASZupQar7F/33m/qa9bSS6O4/orPtz/j8yBFt2zAjQL2E6bCEBJy38Lvdpc/IDlBPDNRoJEEpoep0On2GqjlMk5OTtTAdqDQ7EAZqDPjb9+7BZ69u09dCV92XIHW98JIqkR5Va6bqvMFLmJ5zycW4aE9kjjag2NZfqIYiTAXnlIpyrpcae4WpGHbeefo96/w1aw5Or16nVe+lNOotTIedfz7OnfoPOPeGaTh/8SKMzJrJMKUhIwEpQSmBKcEpASpBGqowNYv5EmrHoRYcTUqFLVHfECNOP7Eap1eu0tdUdf+ii3DRO3/Q14InpdJPn/kNuj75xN0+anLOhYkYft21OGdsEro6/hbiziGiwHiWVEWowjSoKv+TTz6pHaQUpT/66COtEdgfY8aMwT/+4z/qa8FzVKQg5yl9pZdMVOyoRW5HDWZll6P1imK8srUAtiP1yJ+6HFixE7U5Sfq+0cmzum9FZ1TfNtLeJVIJ0hHpX2eAUtQwh6oIVck0qCr/e++9pwWpEaaNjY1+Ldu3b9dfwUppmHvfEizptUyHTb6vpGSkjQYSpyRjrHvnmOBZ3bdi7KlRtf9sx07tVE6jei/NCCOuvQYjZ81QJeC3GKYUdbo7ThXz/VAIqIQqxWZJfCtLm4Fwl1AL0NBWrGLVDzFSQv3427eg8+2ea2cG2xl14mvTVIhKh1OPYSNH4tzMGxigFLU820yFt44qKwRVQpUDGuow9Y8D5SkpSKlw6OteHGnG6sWzMFn2S5mMWXeVoP7dDv1Bt/bm1Vg8c7J6XO0zKR05j9Sj9ZT+YJhJ6dQcpsGQKv7xlKtV9f5DraNeyF9wKY2Obt3LMKWo5a0DyltHldUCClQ5EKnuRwYHnnm8ClXmpcndXjKgw6rEOmMBGv8uD6saX8frjauQN96Bkn/KQdVul3ufAzVYsKAKzV9chFXPbEDtj6erUFuuQrUJ7e49wurzP72v3wuOUcXv+uxsT/Ve/cUe/f5+BilFNW9hKqVRWUIdqgFV+R988EEcO3YMpaWlWhH6d7/7nf5I/+SD3H777fpa8Hx2St3TgLbl0gggJdQc1Bjrvar8CdhUOBlLjxbj5XW5cFcIRCvqbleBOmEt9vwiC4lvlSMltwa5a/egIss9VMB1ogMJo4dm2IBnZ5Twp0PK6HDCuedqt11/+5vWey9hOvyaSWE4lZMo9HyFqZnsM9Dg/8EKqsrv+eaSyf4soSFtqG1oMy9amA6gswV7N6tbFZhzrp+Myd2LClOZpPHlXSpalSl5WDs/FY2L1WMzF2Dpo3VoPi4PhJ+3saf+dEhJafRTvcPJfZUnPUzVv6OUSBP/898ZphQTZARSf2EqPEuq8hzLqKAbtJMnT3a1t7fra0Nn12Nf7vryl3/etUtf72tX18+/rPZ5TN/jL8933a3W737haFfX2R3ux362w/3YQE5+0LX3zcauZx6+o+s69byZD2/r+lh/KFxO/aK669h4W6/lk5+U6o/2dfKxlV3HrpzU9ZHa76PxV3YdS+5Z/vqNGfpeRLHj/fff76qoqNAyaiCyj+wrzwnWgQMHtNuAS6gypjSqDU/FpNnqduPTqDc3S3Y6UV+xGvZD7o6pjnfqUb6oHHYkI3XaXOT9bAM2PJCE1g3PYIv7dPaIZJRKu067uttIhfTeS6fT4C/ITBT5pArvq2TqySipGoP+rRBQoEox2d9208iViLk/KEaqisrl305H/iNVqHp0KXK+fiOWP9WIHScStL0SXK2wv1qD/G/kqOq+2ueRfOSvaweuuB6pETbySrtYikwl8pVr0fnue70uozfsCxew954oxALqlFqyZAlOnz6tNeYaA/v9YcVlsswGHofaX6eUnoYybKqsBE83taJDhawtKxeFDyzD3K+4A1V07K7DTx+rRtNb7XCNSkJa1iIsW16AjDAHqrcOKWMMavdl/IwEVaRkOiIjXYXpFxiiRCEU1Kmn69ev186WknAcylNP44l0SJ28///qaz0kUEdcd03fMFXVmdHv7dHXiCiUggpUCj/Pi6EYRmTeiLP217vDVEql5868iSVSojCSQBUM1CjhNVDlcn2fftoTpv2USmW65s5Df9LuD08ej66ODnz+ce8zwmR7wp23a9ONEJH/WEKNMt4C9Zwxl6Cr8yyGnTMCOHcEzpngnq7XCMxhiYna7ZnXtwMff6w91p+E3NtwQVWFvkZE/mKgRhlfVX6rMEyJAheVgSrzhMeSi53udhd/eF5hykoMU6LgGIEa0DhUCi8rrzDliWFKZB2WUIeQvyXUQKr7MpRKxp92z3Wvz2nfTW2X652eV/A9fQMRBSrqq/yDqS5HkkA+w5lXX4Pr6X9zr3gGpLHesq/7NrqmayaKfgzUIRILn4GIemMbKhGRxRioREQWYaASEVmEgUpEZBEGKhGRRRioREQWYaASEVmEgUpEZBEGKhGRRRioREQWYaCS5U6dOqXfI4ovcXsuv0wyWFtbq00y2B+ZVHDhwoX6WvBi/Vx+CdMVK1YgOTnZ0u+NKJLF/bn8MnPrQGEqfve732n7kn/kD9UHH3zA743iUtyWUPPz87VbKaX6YuwjrCqpDvYzOBwObNq0SQspb6wuQVvBHKZyfLfffjsqKyvhdDq1bSISj5soULza1CANVYnrueee8xmmIhJLghKW559/vnZfjk8+Q1FRkdYMYGAJlmIRS6h+llANwZasBvsZvB1DIMaMGYP58+cjLS1N3xJansftq6Q6kHAfN1EgWEINULSWrKS9WJoOhoqvkqqQ9QkTJmjLJZdcom91G+rjJhoMllAHWUI19Pe8/gRaQg30/QxWvY6/fH133kqqpaWluOyyy7T7EqAPPfSQdt8sXMdNFAiWUP0gv8SeCwXHs6Q6b948bZtBqvgzZ87U14iiCwOVws4cqhKoEqIy3Mog24xOLaJowkD1IlrbSfsTaSVsI1SFlEh3796t3RejRo3CzTffrK8RRQ8GqgcjTOV269at+tboIsOsGhsbtTOWqqurtc8hZzBJu6UskcL8h0vaUGXdICHr2UFFFOkYqCbmX3AhJSjzL3k0kPCUTh4J1JMnT6K9vV37HLLt2LFj+l5DT6r1wvjOp0yZop3EYMaB/xRtGKg6zzA1GKXVaCA95BKe0tkjAVpWVob77rtP61WXEqo/p9qGg4SpLEZgyvcrxy3r8n1LyVoWDpeiaBNUoErVUqqUMkTGWGS9vzN7IpXRKWIuFRn3zR0mkcwIfglRYxiSEVaRdAUoGTpl3ErYC3OoyrAp80IULQIOVAlNKUVINU2qa1LiMKptsj1aQshg/CIbv+xC7ss2c8hGMvnOZXC89JobjM9gLEaADSVz27SUms2h6llLiNZ2bIpPAQWqcYk2OSdAqpZSIpJAlVtZlyEvUlKNpFKRP6666ir9Xg9v26KJhKt8BmMxSq5DSUJSglT+KEuPvnRAGX+0zKEqfyDMvf9EkS6gQJUfcgnLO+64o88vqKwbbXb8ZQie0dNtblbxtkj4SHju37/fa1upPC77havEN1APvfxBlj+6crxyX4JUwlUYoSrr8seZvf0ULQIKVOMXVqr43hgXsojGtlQRSWM25Y+T57nv3kgHjnGGkQSVOVTl32Hjxo3afV//ZlYb6Ljl+GSRoDcWc41GQlXCXwb/c0wqRYuAzuWXITmyyC+uUarwJKUhab+zsv3RynP5lyxZgtOnT+trgyMlppUrV+prg2PlZ/BGQkg6d4TRXCFhJeTfwtxGHKnM1X6rf4aIQiGoc/mNTg9fVXpjPGEktNf5Iu29gVQl5TmR/AsupVSpQksJUf5WymJ0TEVDmApziJrDlSjSBVRClarZgw8+iGHDhmmdUOZeZanGyS+0DCqXUpyvEmwgQl26C4dY+AzhYoSpNB1I1d/KnyUiKxkl1IAv3yfVyCeffFILVWmXk1CVMDU6rKS6KRcGtrKUykCNP1LbkZ8lhilFsqADVUhnh7Slmqv+Mg5SqptyzriErVQ1rQpVBioRRSJLAtVMwtUcnLJudagyUIkoEll+gWnPwJR1afeSvJY21WgdQkVE5C/LAtUbz1A1jzMkIoo1IQ1UYYSqtKuyY4GIYlnIA1VIqEbLGEgiokCFJVCJiOIBA5WIyCKWDZsKB/OQo1hw7LXN+j0iGioy3ClYlo9DDYdYC1SOQyWKDZaPQyUiindRVUIlIopELKESEVmMgUpEZBEGKhGRRRioREQWYaASEVmEgUpEZBEGKhGRRRioREQWYaASEVmEgUpEZBGeemoi88DL4knmhZcZB4iIvInKq02FkkwiWFpaqq/1JTMOLFy4UF8jIurBQPXw3nvvaRMJBuqqq67SpssmovjDi6P46ZJLLtHv9U8CWRYiil8M1H5INX/lypWcYJCI/MJA9cHcZiq3DFUiGggD1QtvHVAMVSIaCAPVw2WXXYZp06Zpvf5msi7b5XEiIm8YqB4kOCsrK/Hcc8/pW9xkXbZ7Bq3/XHBut8PRrq92tsPxajOcp/R1Iop6DNSwcaKpbDGe/r2eqCcdqP/hYmza714loujHQA0bGwq27sPaOUnu1cQsVOzdgyVT3KtEFP0YqD44nU5toL+xyDoRUX8YqLpRo0bp99xOnTrVPVhfFlkfiOdrEFF84amnJnJhFIfD4Vd4mkmQypCqtLQ0fQsRxROey09EZBGey09EZDEGKhGRRYIOVGlvbGxs1Nd6k+2DbY8kIopWQQWqhKUMKZLg9Lx0nazLdnmcoUpE8SDgQDXCVE7FlAuHyAWWzWRdtsvjDFUiigcBBapnmPq6CpNx1SaGKhHFg0EHqr9hamCoElG8CKiEGujQVQ55JaJYNuhAlbOCioqKtKmV169f73XaZTN5XPaT/eV5PD3T5K1ypOTXw7iiXx+d7WjZ3oL2Tn2diCJawGdKSdVdrg8qFw3xVfWPtjCV4/X2ByJk8/JLoK6xYWdtLvRrUPXWvgmLp1fj+hdfQcFX9G1EFHEsOfXUHKoyhbK5p1+GTUmbabSEqbTxhn1e/oEClYiigmXn8kuobt26FfPmzdO39JBxqDNnzgxpmB49ehRjx47V1wJn/AEIlF/z8p9qQc0P81H1ajsSpuSh+NsuLN+epgeqA+Up1Ri74npseawKiT/eidpp25A/dQuyd9Qi9YUbkXPycexbblyApRV18+ag9cE9KJuWoL123SMlqHrJgY7RacgrfRxlc5L1fYkolCw7l1/C0luYCtke6pJpQ0MDPvzwQ31t6Egge57c0FsHmn6cg/rxlXhlXxt2/jIXrmbPM8zsqGoCil/cg1XGhah1qTflYuyzW+Aw2lPfb0bjoVxkf02FaacT9YU52Pa1Cuw82IZ9jYuAlXei/C2XvjMRhUPQgRoJVq1aFRGh2q8jW/D8y5kovD8TySoDE5JSkZefpz9oSEXx8iVIuzwRiWqfXq7ORO7FTWh+173a/odtaPnnbKTJfrvrUHKsGMXzbUgYrl57fBbyFiai7s0W985EFBYxEagSphEfqodbYR8/CVeM1tfFufpttyQkXKDf7SMVmbcD9dslJDvQbG9G7k1pkDxt/3MrXO+UYFZKClL0ZVZZC1wsoBKFVUwEqoiKUA1S6o25wBYHWjua8Zpdr+4b5qzFnrY2tJmX7vZWIgqHmAnUiDfehszDe3HohL4uPtNv/SXV/hP1aPr1Dmy6Zbq7uq8kjktGwqs70GIukXLsKlHYxUygXnrppVi6dKl2G5HGZeM7c+yofsIOpwo+V7sDqx+v0x/0VyqyFgLV6+qRd1OGVt0XCRm5KPxiHUoq7O6TAFxO2B+dg6WbfZ4yQEQhEBOBGvFhqklE1mMNyD1chFkTU5D+/UYkZXsfHdEf27Rc2E7lYnqGqbo/PBVL/l299pFyzLwyBSnX5+CZi4vxkyyObiUKp6ifU2rNmjW47bbbgg7TYMehCs+TG4goPsTMnFI5OTkRXjIlongR9YFqxVlSwooTECL99FoiCi1OI20iF0bhvPxENFiWnctPRBTvYqYNlYgix/HkK/V78YmBSkRBkyCN9zAVDFQiCgqDtEfMt6HyH5uiwcXOg/q96OLt9ytaP0sw4qZTSv7B4/EfmKJHNP6M9ldQiedAZZWfiAaFtT7fGKhE5BcJUoZp/xioRDQgBql/GKhh5ULLU/lIn5TS/3z8RBGEYeo/dkqZhHxe/ndX48bcXVjSuBa5X0oAhuvbA3WkvntW1Nxx+jaKOoP5GQ2nQIOUnVKkzcu/fv367tlLzYtMky2PBe3Ux3B+PRvTr7AgTIlCiKXSwLCEqpPgDOW8/O0Nqqr/kF1fAzJX7ERtThLQ4UBdWXn3fPpzf1SGygWp7qvxayXQVnzn38fi+SVVsB9JQNqCSjxemoXzXvLxep1ONJU+gJ+q12tHEtJu+Ynafy6SGeARK9JKqMGGaTyXUBmoumADVQx4gem3ypGyxoadtbkq6pTOVtTlzkHjjA2ovScNiR3NKM9dAMedr6DhuzY9UJfj8HdrsX55JsZ22FF1Wz6OLt+DVbMTvVb5W5+ahTl/KMDL1bmwoRX1hXOw+toGvH5fqnsHijiREqjBBmmkCed3yip/JNhdj/L2QpRJmEoJcnQGiv91GdpX1sPRPcleHopVmLrn8s9E9mygaX+r/lhfHcdbYctIg02KuAk2zCvZgIppieCM0tSfWAvToRKVgXr06FFt6pP+Ftkn0mnz6d+YCpu5On65DVNOtaK1ewhAAhK1+n+P/ubbT51bjMTVc5C+qAQ1Dc1wXpCGjCnJ3RP6EZlJkDJMrROVgSpX6Zd5pJxOJ956661ei2yTx6y6kn/YqbTs0O8GIuHqAmz4753YcO/1SPjj01jwjVlY3sQBWtQXg9R6UVvl9zbTqbdtkSzpSzYkvN6CVvMc+kecODTKBltAE5Z2oHV7M1o7EmH76lzk/awWWx+7AvXPb+OYV+qFYRoaUd2Gag7QaAtTzZRcFCdVo+rZFnRIqJ5wYHVpFZIezEWaP73yScmw4RCcf3F1NwMceiEfP3hCn5+/swOOP76LhDEXsspPGlbxQyvqO6WMII26MBXDbcj71QZM/f0DuEHm059RjoO3NqD2Tpu+wwCGp2Hew+NRd9tETF7jUBtk7v+XUXC2Gv90nXq9K29A9YkCNJRmqUco3jFIQ4/DpnRhGTZF5IW/P6OBitcg5bApIrIUS6XhxUDVcV5+ijUM0/ALqMovc9dv3LgRl1xyCYqKivStvsl58PKcO+64Q5u/PpwGU53ivPw0FKyu8jNI3Yaiyh9QoC5ZskRrK7zvvvv0LQOTUN29ezeqq6v1LeFh9Q8rkdWs/BllmPYYikANqMp/+vRpXHbZZfqam5Tq9u/fr121ySAlvo8++ki7P2bMmEGX/IjIPxKkDNOhZ0kbqoRoZWUlnnjiCZSWlmrBWVJSopVK5dJ3RBRarIVFBksCVUqrZWVluPnmm7V1GX40bdo0LVznzZunbSOi0GKoDr1BB2p/1Xa5sr04//zzMXPmTC1oPXu+We0nCh2G6tAaVKBKe+hzzz2nBeaUKVP0rT2MdlVvw4dkf3lebW1td7sqEVlPQpXBOjQCKqEOGzbMa2g2NjZqt9I55Y08L8ZPzCKKGAzV8BtUoEpP/cKFC7VQNU9mJyVOWZfOKanqy+PGqZxGFV+GTMl9mexOXoeIQo+hGl6DLqF6lkyffPJJ7Rz23/zmN9q41AkTJmjbJUylmu+5fzyGqfyhkVK7r4UolNgEED4BDezPz8/Xeu9lkZKohIKcKWSEpQyVkiA1nxUlzQGySBtqOA31wH4puQ80Y6p8T1Lyj2eu9x1oQSrSLh/4QoPahIethWhbHtiZacE+32/6hIlFGxzouKfB5/uF82c0nsaqhvP33rKLo8gZUxKs5pKnVPvDfYpppJJTWX2R0rx8T/6ErjeOihSkVPh+/WjSsikfC1bbg5qtoJtMhphSjoC/GZn8MCUf9Uf09T7aUZ+fgvwG02W7vbxnR1MVFv8+DWt3taHtwcg4LZml1dAKKFClt36wPfWyvzwv3hhtyL5IyTSYUI0Vafftwb4VsXXdVtcp9efhpmxkjFYrETaNN0M1NAIKVLnIiZS8/A0AOYtKmgbkedRXIKFanpKCnKfUnady3CUjrVSVg7r33Y+L1l/PQUrhJq3UJ6XZ/NpNqFmUjonquROnLkXdAdNsf6p6aq9QVeFJqtQ7KR35FXY4zVOz9OJQ79+7BCfV6JT8em2qFe3+o/VoeiQHk9V7pVyfg3J7T2nOeHzTD+VY3KU6z9K2c3MJcq7Xj+XJeqz2LBGebYfjKf141euXbHZqm7XXya1R92qQo967/C1tc19nW3sdn/F87dimLodd/bd8qsd7Cu17TsdyO2B/KF37zK95eU85jvSH1E7av08/xzGEGKrWCyhQ5Zd/9erVfrf7yRWpVq5cyWaAfphDVcb6DqS4rQ0N96g70jbXVoy0cdORnenAtj8YAaAC5/UWZGVldpf67M/tgu3hN7Dv4B403NuB8lvL0axlqgv20lkoP34zNkj1dNcGZB9ajFml9sCnn964BUdz12LnwX14fUUq7PmLe4U9amuwa8YGvLFrGfpUht9VP1uFLZi+bif27XoDZVe3oFFlUy+1VWi8ogxv/HEfdlalwV5YhSb1lyNtuTr++gK1QwEa1HdU/FX37n2o99+R+bh2fDt/kYbmwge040vKqUXbjgpkqv8qdrShNsdjcq9xuaht24mKTCBzxU601ebim17eU45j5wq1k/bv089xDDE2AVgr6DZUCtyxY8e6O+tkkXZo6cwzX2DGf0nIviUL9s36hHwnmrHNnoVvTeupRGcsLECmdPoMT0TqnctQeHEdtkiiHmnEMxsyUfjjud3z+eeuqETmhmfQ6LMdcQDzFyHvmiQkDE9A8k3qvWY7UG9v1R9UFhSjeI4NSaP7dkI5NlXDeU8xlnxVPT9Bnl+IApVNvcjzb0rWXj8pMxtZaMLeQ/pj/sgvQ5nx/GnLULzAgZrNLfqD8Yehag0G6hCSdmVzoMoyUJtrfxKnfQtZ9m1oPgF0NL+GptnfQqa03+kSRpyn31OGpyJtlqpaf6SKdYdbYb9mKq427YvRV2DSeDtaD7s7YKTaqi3+doKNMAdlIqZMy0DLX0xdThck+pg4sB2tB1zIsLlPY/apz/NdcHltopDmiZ7j767C9zq+BFyRmgHnxwGXx2OCVaVV43WGehkKDNRYMjoT35rdhNeaVXW/eVOv6n5fPTOleufCp8flNgm5tapKq6qt2hLgUCOXyxSmYZWmNY8Yx9+nCk99DFUYxQIGakxJRObsudi0+ef4j5d6V/f7csL5NpA8Ru0z3obMd3bgXVWy7XbiMFpPZcI2Xl/vQ6XxWf3ugFyqENyC1C/2dzyGJNiuScChvxzV10PkrPmviQuHWpqRfKH3MnM8YqgGhoEaxZK+lKGq64fRroqaRnVXqv1zN2/Cpq9Pdw/XMbGvq4b9sAqSThdaN5aj/EQB5mWoEBk3D3ctsKP6CTuckjOuVmwqrYJ9wV2YN8793N6SYctsRv1LDnSo93W9r567zqPX6Nlq1L3jLpV2bK9C+YZM5GX5Nz12WlYhEtZVqee3q5KtC85Xq1Hj2SnVn3E2qAo8Drf3UwqvLUHJq071vbnQrh1fGgpmp7ofS1KfD4fg/IvxfHUM2+1wdHf4JyE5BTjkVM833sCf94wyQ1l1jlYM1CiWnHkXcv9chPSJi9GkVc+VxAx8czZUSXW6+rXvLUMFRkvZDZh45UTMeXYsymqWIU0rlCUgs/QVFJ6tdg9Vun4B/uOLZXilNNNHO2cScv9lLWxNCzBZvdYND27D2BtVuJvNnoqE+nxtWNLkH7Zg3oZK5HoNZy+uXoL1K5LR+L10TLz+BpS8m4osj5fv1/jpuGv+YRSlT8TizR7Dngz5BZhqfwDp6vjTf+hAZu1a5F2uPzY8DfMeHo+62yZi8hppM3aiqWwxnv59z2ul3VqM8c/mqOOrdg/m9+c9oxRD1X+clz/EZAzuYM/XlzOo/Jn80KtOB8qvq4btt7W9AkzGRVbbdoalDdGSUzulxN09GL4VdfNmwflI5A4/CsZQ/4z6y9/TVuMxgDkvfwxynehA6wuqqp15M7L9LQ1GINfu1Zjz/Tq0SJuuqXki+xr34zQ0JChZWu0fAzVmOFD9jclaVX7V8rlRfQpnwpQCPJ7VipJvT0TKlZOx4MVkVNYV680TNNQYqr6xyh9igVT55bKHg5mim6JbtFT5vfHWDBCPgcsqf5jIZIWDxVN0KVqwtNobS6hhIKeS+nsGlJx6aszNRfEhmkuoBnNJNZ5LqAxUoiEWSz+j8fr7xio/EVku3gsvDFQiIoswUImILBIXbahEkY7t/NEtbjqliIhCbcBOqQ9/dEH3QkREA2MbKhGRRXxW+c0l00v/9aR+L7bJBHmyeEpOTsbtt9+urw0VmYokHVtmW3XFKKtfjyh+cRyqBzmbSaZwlumuPZetW7fG9Zz5ROSfqC+hHj16FGPHjtXXAifBuWLFCn1t8K666io89NBD+poPMvf9yhIUPWtX5cMkZN5ZibIHM5GsXfdTJpOrhm1Hz3VMteuKbs7GznKgSJsrXpdZgZ21uXDKNU7HrsLU5p+j6tV2YNxcFP9bJfK+4r4sU59roMqc8lO3IPs/srHl5r6vx3IqUWBipoTa0NCADz/8UF8bOkZp1rcg5r73Mhe8EX6+59rvx1jfr0dEgYuJKv+qVasiIlT7FYq57xWfc+0TUdjFRKBKmEZ8qPY7972+HgCfc+0TUdjFTKdUVIRqH8bc91aJnRk3iaIRe/nDxa+571Ua+j3XvTemufZ1rrOf6veIKNRiJlAvvfRSLF26VLuNSAPOfT/QXPde5oJXfM61ryTbMtH8wiY4JMRPOdW+NT09+z5ej4gCFxOBGvFhqhlo7vuB57rvMxe84nuuffWKt5Rh7YQtWKDeb+KMB7BtbCbMr+jt9YgocFE/DnXNmjW47bbbgg7TYMehChmHKuNRwyWcc+0TkW9BjUPtPP4+zhx6s8/SdfpjfY/wycnJifCSKRHFi0EHqoTpR49ejROrs/ssx9dkhz1UrThLSsjkeMGy4jWIKHoNusr/SdPPcbKpXF/ra/jFl6vF+6ydI/7+OvzdzZX6WuSRC6M4HA6/Zyg1SJDK1M9paWn6FiKKJwNeYHqgQB3x99fgnPMv0rcO7PPTf8XZ/3kHF929EQnXzNG3EhFFv6ADdfQPtmCk7Rv61oGdaX0TJ9Zk44KsYnwh6yf6ViKi6MfL9xERWYyBSkRkEQYqEZFFGKhERBZhoBIRWYSBSkRkkYAD9ez/vO319FNfi+xPRBTLBj0O1Tj1NFBjHn5XO5uKhpJMCJgD1Leh+Kv6Jiu8VY6UNTZO+EdxJ+CB/UJCtfP4B/qa/+SU1EgO08iel99KERCoxgysplleiaJVUAP7JRTlLKnBLpEcppyXn4iCFfWdUjIvvxUGuiCKlFzz8/N9Ln5dS/VwE0py0zExJQUTp+ag5GWn/oDS2Y7mJxdjllx8OmUyZi2uQYtxSFKaSylH/eYS98Wp1eM5jzTB2dGCmkXG6+Wj5h3jyvtSAlXrL9eoUuBEtf9EpP+wDq39fETnq+U9+y6qgcOfef5O9bz/5NtKUP+2x5Pam7F68SxMVo+nXD8Li59q0abMbm/IR8rU5bCr/5ZPTUF+Q7t7//6+A6IoEPWBGj3z8rei5u6lcN66AXsOtmFPXS6cP74Tq9/RH12/APlvT8eaHW1oO/gGyi6vR87KZtOc/XXY0p6LterxfW/8C8a/tBRzsquRcP9W7Du4Dy/fD1QtUQGk7w0VVvUOG8p+uw9tuxpQeKocc3q9Xg9XcznurAAW/Zfa9+BO1GbsQM7Seugx50MHmn6cg/rxlXhlXxt2/jJXvU6j/phQn/eOfOy6cQ12qs/btq0MyS/koHy7C0k5tWjbUYFM9V+F+jzGBbIH/g6IIltMDJuKjtlOO3D0kA1T02xIGA4kXDEPZXUVyBjtjovk+Q3YWZ3rnrN/eCIyZmTC9cIOU0DmYdGdqUhSjyeMn4vvzHehY/ZdyLsmUe2fAFtmNjIO70JL9xz/GShYmIlkuUTr6FTk3V+Isb/egr5T9rej8ekaZP5kmToWtSrz+y9Qr2tX+/aXqEe24PmXM1F4v3oPOaYk9R75efqDSmcycut3Yu0/uz8vEjOQfZML9X/o+USeBv4OiCJbTARqdEwhnYp5Dyei+tZ05D9Sg/rtTlx4bQbSxrsngEq4wIWWp4zqrlpya1SVunf6acGkSxih/jfC/Vzv1GOyj+HqNGTBiaPmWVc1TrTaVfk3X6r7+ntPzFflYeDTTvceXh1uhX38JFwhIWw4V78VKuQTXS2oKdSr/GrJeUqVhvspbvrzHRBFspgIVBH5oZqA1HxV3X9zAwq/noCWXy9AevZyNGklShccK3Pc1d03VXW3TS31BdqzLHPW1U/VORnL/lN/3+4lyN53lwPluaYqv3rNhnv0x7wKw3dAFGIxE6gR70Qrmre3omO0DWlz8lD29FZUTqjH89ulXt2B1gNO5N2rqrvGLCqf6bdWOeyEQwXnWHOJUpOE5ClObNtt6iAT/ZVOxXgbMg/vxSFzidd8zOrzth7OQ+F8vcqvuM66b70Lw3dAFGIxE6iRP5X0ITz//R+g6lW9YfKEA3vfTsDYv5NqewIuHJOApsYmOFUVV+bkL/+5VLqDYUfNOjucUix1taK+ohwd98yDPmW/STLmLZyLlsdKUPeuu5e+45065OeuRkt/te1x2fjOHDuqn3C/h6vdgdWPm4551IUYO6oJjU1OuNRnklEE5Rv1x0RSMmzqO3H+RX1e7X1C8R0QhVdMBGrkh6kyOguVL6oq7Lp/0oYZpcyoxtF7G1CWlageTERWaQPyjvwUsyZNRPqPtsF2bwFSVTW4o79Q61cGsia0oGT6RKRMnIO6pDKsvz9NWlb7SJy9Cq88lozGgnSt7fKG0lZkP6bev78mWjnmxxqQe7gIsyamIP37jUjKnqc/piRmoey5PDjLZmHipHQ8YLdh0cJU4GSHu+lheBrmPTwedbdNxOQ1DnlCCL4DovAK6EypSBLP8/L7JuNQq2EL9iwk7WwmGS/qSYY78QwnIkPMTIHCeflDaFwuant1VBkLw5TIm6gPVM7LT0SRIuqr/FbivPxEFIgBrzZFRET+4TTSREQWY6ASEVmEgUpEZBEGKhGRRRioREQWYaASEVmEgUpEZBEGKhGRRRio0aSzHS3bW9A+0LVKiWhI8Ewpk1DPy++oSEEOGtC2PMBTVNs3YfH0alz/4iso+Iq+jYiGHE899SDz8peWluprfcm5+gsXLtTXAhN0oBJRRIqZQJV5+a244lSw10OV66DK9VB9KU9JQY1+HyhAQ1sxkhvykf5eNla1V6Ho5XnYoLalyVz2Py3B003u6VKy7n0cq+5JdV8YWrs+6RZka9cidV/zNPmZm9H6+E9Rt9uFpJuWofYXBUjlRa+IwipmzuWPlnn5i9v0SeruUSVUCU73ZqC2BrtmbMAbu5apbb7nsvfOjvJff4zcmj1o2/syCjvL8YNfc9JloqESE51S0TEvvw8LilE8x4ak0aoMOui57FNRvDwPqTLx3igbsmdnwuk4hP6m0yei0ImJQI38KaT7cUFizzxPg57LPgkJPZetdev8VL9DROEWM8OmojpUDYOey56IIgnHoUaSQc9lT0SRJGYCNRqmkk76UgZw+DDaVR3e5W1w/kBz2RNRRIuJQI2GMBXJmXch989FSJ+4GE3H9Y1mA81lT0QRLerHoXJefiIaajEzDpXz8hNRpIj6QOW8/EQUKXguvwnn5SeiQPDiKEREFomZNlQiokjBQCUisggDlYjIIgxUIiKLMFCJiCzCQCUisggDlYjIIgxUIiKLMFCJiCzCQCUisggDlYjIIgxUIiKLMFCJiCzCQCUisggDlYjIIgxUIiKLMFCJiCzCQCUisggDlYjIIgxUIiKLMFCJiCzCQCUisggDlYjIIgxUIiKLMFCJiCzCQCUisggDlYjIIgxUIiKLMFCJiCzCQCUisggDlYjIEsD/Av8kYISYFOG9AAAAAElFTkSuQmCC)"
      ]
    },
    {
      "cell_type": "markdown",
      "metadata": {
        "id": "mztdS2jPEPd2"
      },
      "source": [
        "#**#4 GET YOUR FONT NAME**\n",
        "\n",
        "---\n",
        "**Double click on .ttf file to see the font name**\n"
      ]
    },
    {
      "cell_type": "markdown",
      "metadata": {
        "id": "gr42WwAQFfQx"
      },
      "source": [
        "![fontname.png](data:image/png;base64,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)"
      ]
    },
    {
      "cell_type": "markdown",
      "metadata": {
        "id": "-to899PuG2RM"
      },
      "source": [
        "#**#5 ASSIGN IT**\n",
        "\n",
        "---\n",
        "\n"
      ]
    },
    {
      "cell_type": "code",
      "metadata": {
        "id": "t4WaQNdvEbzp"
      },
      "source": [
        "font_name = 'Old typewriter'  #@param {type: \"string\"}\n",
        "\n"
      ],
      "execution_count": null,
      "outputs": []
    },
    {
      "cell_type": "markdown",
      "metadata": {
        "id": "B2WGcBOwJl0k"
      },
      "source": [
        "#**#6 ADD GOOGLE DRIVE**\n",
        "\n",
        "---\n",
        "\n"
      ]
    },
    {
      "cell_type": "code",
      "metadata": {
        "id": "G8w_sAtrpgVL",
        "outputId": "6f4c1a59-829a-47a1-83fa-4932ca3ac13f",
        "colab": {
          "base_uri": "https://localhost:8080/"
        }
      },
      "source": [
        "from google.colab import drive\n",
        "drive.mount('/content/drive')"
      ],
      "execution_count": null,
      "outputs": [
        {
          "output_type": "stream",
          "name": "stdout",
          "text": [
            "Mounted at /content/drive\n"
          ]
        }
      ]
    },
    {
      "cell_type": "markdown",
      "metadata": {
        "id": "-fwDTPJiPdk7"
      },
      "source": [
        "![GOOGLEDIR.png](data:image/png;base64,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)"
      ]
    },
    {
      "cell_type": "markdown",
      "metadata": {
        "id": "1cZRk02wHf3F"
      },
      "source": [
        "#**#6 CHANGE PERMISSION OF TESSERACT FOLDER**\n",
        "\n",
        "---\n",
        "**Run this change the permission of tesseract folder.**\n"
      ]
    },
    {
      "cell_type": "code",
      "metadata": {
        "id": "LMMTbc-xsXzI"
      },
      "source": [
        "!chmod 755 -R /content/drive/MyDrive/tesseract/src/training/tesstrain.sh"
      ],
      "execution_count": null,
      "outputs": []
    },
    {
      "cell_type": "markdown",
      "metadata": {
        "id": "AlDBON6ulWkC"
      },
      "source": [
        "#**#7 EXTRACT 'eng.lstm' FROM 'eng.traineddata'**\n",
        "\n",
        "**'eng.lstm' data will be generated from 'eng.taineddata' , which will we use for further fine tuning**"
      ]
    },
    {
      "cell_type": "code",
      "metadata": {
        "id": "ackgGjeexk0o",
        "outputId": "adf2ec25-ec6b-4591-8cb9-18137363261a",
        "colab": {
          "base_uri": "https://localhost:8080/"
        }
      },
      "source": [
        "!combine_tessdata -e /content/drive/MyDrive/tesseract/tessdata/spa_old.traineddata oldSpa.lstm"
      ],
      "execution_count": null,
      "outputs": [
        {
          "output_type": "stream",
          "name": "stdout",
          "text": [
            "Extracting tessdata components from /content/drive/MyDrive/tesseract/tessdata/spa_old.traineddata\n",
            "Wrote oldSpa.lstm\n",
            "Version string:4.00.00alpha:spa_old:synth20170629\n",
            "17:lstm:size=7548147, offset=192\n",
            "18:lstm-punc-dawg:size=5322, offset=7548339\n",
            "19:lstm-word-dawg:size=1913378, offset=7553661\n",
            "20:lstm-number-dawg:size=1578, offset=9467039\n",
            "21:lstm-unicharset:size=7141, offset=9468617\n",
            "22:lstm-recoder:size=1129, offset=9475758\n",
            "23:version:size=34, offset=9476887\n"
          ]
        }
      ]
    },
    {
      "cell_type": "markdown",
      "metadata": {
        "id": "n9WozFAJkhUT"
      },
      "source": [
        "#**#8 GENERATE TRAINING DATA**\n",
        "\n",
        "**The training data will be generates inside the 'train' folder.**\n",
        "\n",
        "Change Max pages as per your need. The default here is 10. Increase this value to get less error.\n"
      ]
    },
    {
      "cell_type": "code",
      "metadata": {
        "id": "Idoqy3pLnuWa",
        "outputId": "83b307a7-f823-4332-88b9-4d25e3f6e265",
        "colab": {
          "base_uri": "https://localhost:8080/"
        }
      },
      "source": [
        "\n",
        "\n",
        "!rm -rf train/*\n",
        "! /content/drive/MyDrive/tesseract/src/training/tesstrain.sh --fonts_dir fonts \\\n",
        "\t--fontlist 'Old typewriter' \\\n",
        "\t--lang spa_old \\\n",
        "\t--linedata_only \\\n",
        "\t--langdata_dir /content/drive/MyDrive/spa_old \\\n",
        "\t--tessdata_dir /content/drive/MyDrive/tesseract/tessdata \\\n",
        "\t--save_box_tiff \\\n",
        "\t--maxpages 10 \\\n",
        "\t--output_dir train\n",
        " \n",
        "\n",
        "\n"
      ],
      "execution_count": null,
      "outputs": [
        {
          "output_type": "stream",
          "name": "stdout",
          "text": [
            "\n",
            "=== Starting training for language 'spa_old'\n",
            "[Thu 25 May 2023 10:42:16 PM UTC] /usr/bin/text2image --fonts_dir=fonts --ptsize 12 --font=Old typewriter --outputbase=/tmp/font_tmp.2xMrP05cM9/sample_text.txt --text=/tmp/font_tmp.2xMrP05cM9/sample_text.txt --fontconfig_tmpdir=/tmp/font_tmp.2xMrP05cM9\n",
            "Rendered page 0 to file /tmp/font_tmp.2xMrP05cM9/sample_text.txt.tif\n",
            "\n",
            "=== Phase I: Generating training images ===\n",
            "Rendering using Old typewriter\n",
            "[Thu 25 May 2023 10:42:18 PM UTC] /usr/bin/text2image --fontconfig_tmpdir=/tmp/font_tmp.2xMrP05cM9 --fonts_dir=fonts --strip_unrenderable_words --leading=32 --xsize=3600 --char_spacing=0.0 --exposure=0 --outputbase=/tmp/spa_old-2023-05-25.Upo/spa_old.Old_typewriter.exp0 --max_pages=10 --font=Old typewriter --ptsize 12 --text=/content/drive/MyDrive/spa_old/spa_old/spa_old.training_text --ligatures\n",
            "Stripped 12 unrenderable words\n",
            "Rendered page 0 to file /tmp/spa_old-2023-05-25.Upo/spa_old.Old_typewriter.exp0.tif\n",
            "Stripped 8 unrenderable words\n",
            "Rendered page 1 to file /tmp/spa_old-2023-05-25.Upo/spa_old.Old_typewriter.exp0.tif\n",
            "\n",
            "=== Phase UP: Generating unicharset and unichar properties files ===\n",
            "[Thu 25 May 2023 10:42:19 PM UTC] /usr/bin/unicharset_extractor --output_unicharset /tmp/spa_old-2023-05-25.Upo/spa_old.unicharset --norm_mode 1 /tmp/spa_old-2023-05-25.Upo/spa_old.Old_typewriter.exp0.box\n",
            "Extracting unicharset from box file /tmp/spa_old-2023-05-25.Upo/spa_old.Old_typewriter.exp0.box\n",
            "Other case Ó of ó is not in unicharset\n",
            "Other case Í of í is not in unicharset\n",
            "Other case Ï of ï is not in unicharset\n",
            "Wrote unicharset file /tmp/spa_old-2023-05-25.Upo/spa_old.unicharset\n",
            "[Thu 25 May 2023 10:42:19 PM UTC] /usr/bin/set_unicharset_properties -U /tmp/spa_old-2023-05-25.Upo/spa_old.unicharset -O /tmp/spa_old-2023-05-25.Upo/spa_old.unicharset -X /tmp/spa_old-2023-05-25.Upo/spa_old.xheights --script_dir=/content/drive/MyDrive/spa_old\n",
            "Loaded unicharset of size 109 from file /tmp/spa_old-2023-05-25.Upo/spa_old.unicharset\n",
            "Setting unichar properties\n",
            "Other case Ó of ó is not in unicharset\n",
            "Other case Í of í is not in unicharset\n",
            "Other case Ï of ï is not in unicharset\n",
            "Setting script properties\n",
            "Failed to load script unicharset from:/content/drive/MyDrive/spa_old/Latin.unicharset\n",
            "Warning: properties incomplete for index 3 = M\n",
            "Warning: properties incomplete for index 4 = e\n",
            "Warning: properties incomplete for index 5 = n\n",
            "Warning: properties incomplete for index 6 = a\n",
            "Warning: properties incomplete for index 7 = j\n",
            "Warning: properties incomplete for index 8 = s\n",
            "Warning: properties incomplete for index 9 = 9\n",
            "Warning: properties incomplete for index 10 = 0\n",
            "Warning: properties incomplete for index 11 = o\n",
            "Warning: properties incomplete for index 12 = l\n",
            "Warning: properties incomplete for index 13 = 1\n",
            "Warning: properties incomplete for index 14 = .\n",
            "Warning: properties incomplete for index 15 = \\\n",
            "Warning: properties incomplete for index 16 = Y\n",
            "Warning: properties incomplete for index 17 = N\n",
            "Warning: properties incomplete for index 18 = E\n",
            "Warning: properties incomplete for index 19 = R\n",
            "Warning: properties incomplete for index 20 = O\n",
            "Warning: properties incomplete for index 21 = m\n",
            "Warning: properties incomplete for index 22 = t\n",
            "Warning: properties incomplete for index 23 = r\n",
            "Warning: properties incomplete for index 24 = v\n",
            "Warning: properties incomplete for index 25 = i\n",
            "Warning: properties incomplete for index 26 = c\n",
            "Warning: properties incomplete for index 27 = u\n",
            "Warning: properties incomplete for index 28 = 2\n",
            "Warning: properties incomplete for index 29 = 4\n",
            "Warning: properties incomplete for index 30 = D\n",
            "Warning: properties incomplete for index 31 = p\n",
            "Warning: properties incomplete for index 32 = 6\n",
            "Warning: properties incomplete for index 33 = b\n",
            "Warning: properties incomplete for index 34 = y\n",
            "Warning: properties incomplete for index 35 = :\n",
            "Warning: properties incomplete for index 36 = S\n",
            "Warning: properties incomplete for index 37 = q\n",
            "Warning: properties incomplete for index 38 = L\n",
            "Warning: properties incomplete for index 39 = A\n",
            "Warning: properties incomplete for index 40 = P\n",
            "Warning: properties incomplete for index 41 = C\n",
            "Warning: properties incomplete for index 42 = H\n",
            "Warning: properties incomplete for index 43 = T\n",
            "Warning: properties incomplete for index 44 = d\n",
            "Warning: properties incomplete for index 45 = á\n",
            "Warning: properties incomplete for index 46 = 5\n",
            "Warning: properties incomplete for index 47 = $\n",
            "Warning: properties incomplete for index 48 = G\n",
            "Warning: properties incomplete for index 49 = g\n",
            "Warning: properties incomplete for index 50 = I\n",
            "Warning: properties incomplete for index 51 = J\n",
            "Warning: properties incomplete for index 52 = K\n",
            "Warning: properties incomplete for index 53 = ó\n",
            "Warning: properties incomplete for index 54 = f\n",
            "Warning: properties incomplete for index 55 = é\n",
            "Warning: properties incomplete for index 56 = (\n",
            "Warning: properties incomplete for index 57 = 3\n",
            "Warning: properties incomplete for index 58 = )\n",
            "Warning: properties incomplete for index 59 = h\n",
            "Warning: properties incomplete for index 60 = /\n",
            "Warning: properties incomplete for index 61 = U\n",
            "Warning: properties incomplete for index 62 = @\n",
            "Warning: properties incomplete for index 63 = í\n",
            "Warning: properties incomplete for index 64 = ,\n",
            "Warning: properties incomplete for index 65 = B\n",
            "Warning: properties incomplete for index 66 = V\n",
            "Warning: properties incomplete for index 67 = z\n",
            "Warning: properties incomplete for index 68 = &\n",
            "Warning: properties incomplete for index 69 = F\n",
            "Warning: properties incomplete for index 70 = -\n",
            "Warning: properties incomplete for index 71 = {\n",
            "Warning: properties incomplete for index 72 = }\n",
            "Warning: properties incomplete for index 73 = €\n",
            "Warning: properties incomplete for index 74 = [\n",
            "Warning: properties incomplete for index 75 = ]\n",
            "Warning: properties incomplete for index 76 = _\n",
            "Warning: properties incomplete for index 77 = ”\n",
            "Warning: properties incomplete for index 78 = 8\n",
            "Warning: properties incomplete for index 79 = Á\n",
            "Warning: properties incomplete for index 80 = x\n",
            "Warning: properties incomplete for index 81 = k\n",
            "Warning: properties incomplete for index 82 = |\n",
            "Warning: properties incomplete for index 83 = ;\n",
            "Warning: properties incomplete for index 84 = ï\n",
            "Warning: properties incomplete for index 85 = +\n",
            "Warning: properties incomplete for index 86 = ¡\n",
            "Warning: properties incomplete for index 87 = !\n",
            "Warning: properties incomplete for index 88 = 7\n",
            "Warning: properties incomplete for index 89 = >\n",
            "Warning: properties incomplete for index 90 = \"\n",
            "Warning: properties incomplete for index 91 = =\n",
            "Warning: properties incomplete for index 92 = *\n",
            "Warning: properties incomplete for index 93 = Z\n",
            "Warning: properties incomplete for index 94 = '\n",
            "Warning: properties incomplete for index 95 = W\n",
            "Warning: properties incomplete for index 96 = ©\n",
            "Warning: properties incomplete for index 97 = ®\n",
            "Warning: properties incomplete for index 98 = ?\n",
            "Warning: properties incomplete for index 99 = ¿\n",
            "Warning: properties incomplete for index 100 = Q\n",
            "Warning: properties incomplete for index 101 = X\n",
            "Warning: properties incomplete for index 102 = Ü\n",
            "Warning: properties incomplete for index 103 = w\n",
            "Warning: properties incomplete for index 104 = %\n",
            "Warning: properties incomplete for index 105 = ü\n",
            "Warning: properties incomplete for index 106 = É\n",
            "Warning: properties incomplete for index 107 = #\n",
            "Warning: properties incomplete for index 108 = <\n",
            "Writing unicharset to file /tmp/spa_old-2023-05-25.Upo/spa_old.unicharset\n",
            "\n",
            "=== Phase E: Generating lstmf files ===\n",
            "Using TESSDATA_PREFIX=/content/drive/MyDrive/tesseract/tessdata\n",
            "[Thu 25 May 2023 10:42:19 PM UTC] /usr/bin/tesseract /tmp/spa_old-2023-05-25.Upo/spa_old.Old_typewriter.exp0.tif /tmp/spa_old-2023-05-25.Upo/spa_old.Old_typewriter.exp0 --psm 6 lstm.train\n",
            "Tesseract Open Source OCR Engine v4.1.1 with Leptonica\n",
            "Page 1\n",
            "Page 2\n",
            "Loaded 51/51 lines (1-51) of document /tmp/spa_old-2023-05-25.Upo/spa_old.Old_typewriter.exp0.lstmf\n",
            "\n",
            "=== Constructing LSTM training data ===\n",
            "[Thu 25 May 2023 10:42:20 PM UTC] /usr/bin/combine_lang_model --input_unicharset /tmp/spa_old-2023-05-25.Upo/spa_old.unicharset --script_dir /content/drive/MyDrive/spa_old --words /content/drive/MyDrive/spa_old/spa_old/spa_old.wordlist --numbers /content/drive/MyDrive/spa_old/spa_old/spa_old.numbers --puncs /content/drive/MyDrive/spa_old/spa_old/spa_old.punc --output_dir train --lang spa_old\n",
            "Failed to read data from: /content/drive/MyDrive/spa_old/spa_old/spa_old.wordlist\n",
            "Failed to read data from: /content/drive/MyDrive/spa_old/spa_old/spa_old.punc\n",
            "Failed to read data from: /content/drive/MyDrive/spa_old/spa_old/spa_old.numbers\n",
            "Loaded unicharset of size 109 from file /tmp/spa_old-2023-05-25.Upo/spa_old.unicharset\n",
            "Setting unichar properties\n",
            "Other case Ó of ó is not in unicharset\n",
            "Other case Í of í is not in unicharset\n",
            "Other case Ï of ï is not in unicharset\n",
            "Setting script properties\n",
            "Failed to load script unicharset from:/content/drive/MyDrive/spa_old/Latin.unicharset\n",
            "Warning: properties incomplete for index 3 = M\n",
            "Warning: properties incomplete for index 4 = e\n",
            "Warning: properties incomplete for index 5 = n\n",
            "Warning: properties incomplete for index 6 = a\n",
            "Warning: properties incomplete for index 7 = j\n",
            "Warning: properties incomplete for index 8 = s\n",
            "Warning: properties incomplete for index 9 = 9\n",
            "Warning: properties incomplete for index 10 = 0\n",
            "Warning: properties incomplete for index 11 = o\n",
            "Warning: properties incomplete for index 12 = l\n",
            "Warning: properties incomplete for index 13 = 1\n",
            "Warning: properties incomplete for index 14 = .\n",
            "Warning: properties incomplete for index 15 = \\\n",
            "Warning: properties incomplete for index 16 = Y\n",
            "Warning: properties incomplete for index 17 = N\n",
            "Warning: properties incomplete for index 18 = E\n",
            "Warning: properties incomplete for index 19 = R\n",
            "Warning: properties incomplete for index 20 = O\n",
            "Warning: properties incomplete for index 21 = m\n",
            "Warning: properties incomplete for index 22 = t\n",
            "Warning: properties incomplete for index 23 = r\n",
            "Warning: properties incomplete for index 24 = v\n",
            "Warning: properties incomplete for index 25 = i\n",
            "Warning: properties incomplete for index 26 = c\n",
            "Warning: properties incomplete for index 27 = u\n",
            "Warning: properties incomplete for index 28 = 2\n",
            "Warning: properties incomplete for index 29 = 4\n",
            "Warning: properties incomplete for index 30 = D\n",
            "Warning: properties incomplete for index 31 = p\n",
            "Warning: properties incomplete for index 32 = 6\n",
            "Warning: properties incomplete for index 33 = b\n",
            "Warning: properties incomplete for index 34 = y\n",
            "Warning: properties incomplete for index 35 = :\n",
            "Warning: properties incomplete for index 36 = S\n",
            "Warning: properties incomplete for index 37 = q\n",
            "Warning: properties incomplete for index 38 = L\n",
            "Warning: properties incomplete for index 39 = A\n",
            "Warning: properties incomplete for index 40 = P\n",
            "Warning: properties incomplete for index 41 = C\n",
            "Warning: properties incomplete for index 42 = H\n",
            "Warning: properties incomplete for index 43 = T\n",
            "Warning: properties incomplete for index 44 = d\n",
            "Warning: properties incomplete for index 45 = á\n",
            "Warning: properties incomplete for index 46 = 5\n",
            "Warning: properties incomplete for index 47 = $\n",
            "Warning: properties incomplete for index 48 = G\n",
            "Warning: properties incomplete for index 49 = g\n",
            "Warning: properties incomplete for index 50 = I\n",
            "Warning: properties incomplete for index 51 = J\n",
            "Warning: properties incomplete for index 52 = K\n",
            "Warning: properties incomplete for index 53 = ó\n",
            "Warning: properties incomplete for index 54 = f\n",
            "Warning: properties incomplete for index 55 = é\n",
            "Warning: properties incomplete for index 56 = (\n",
            "Warning: properties incomplete for index 57 = 3\n",
            "Warning: properties incomplete for index 58 = )\n",
            "Warning: properties incomplete for index 59 = h\n",
            "Warning: properties incomplete for index 60 = /\n",
            "Warning: properties incomplete for index 61 = U\n",
            "Warning: properties incomplete for index 62 = @\n",
            "Warning: properties incomplete for index 63 = í\n",
            "Warning: properties incomplete for index 64 = ,\n",
            "Warning: properties incomplete for index 65 = B\n",
            "Warning: properties incomplete for index 66 = V\n",
            "Warning: properties incomplete for index 67 = z\n",
            "Warning: properties incomplete for index 68 = &\n",
            "Warning: properties incomplete for index 69 = F\n",
            "Warning: properties incomplete for index 70 = -\n",
            "Warning: properties incomplete for index 71 = {\n",
            "Warning: properties incomplete for index 72 = }\n",
            "Warning: properties incomplete for index 73 = €\n",
            "Warning: properties incomplete for index 74 = [\n",
            "Warning: properties incomplete for index 75 = ]\n",
            "Warning: properties incomplete for index 76 = _\n",
            "Warning: properties incomplete for index 77 = ”\n",
            "Warning: properties incomplete for index 78 = 8\n",
            "Warning: properties incomplete for index 79 = Á\n",
            "Warning: properties incomplete for index 80 = x\n",
            "Warning: properties incomplete for index 81 = k\n",
            "Warning: properties incomplete for index 82 = |\n",
            "Warning: properties incomplete for index 83 = ;\n",
            "Warning: properties incomplete for index 84 = ï\n",
            "Warning: properties incomplete for index 85 = +\n",
            "Warning: properties incomplete for index 86 = ¡\n",
            "Warning: properties incomplete for index 87 = !\n",
            "Warning: properties incomplete for index 88 = 7\n",
            "Warning: properties incomplete for index 89 = >\n",
            "Warning: properties incomplete for index 90 = \"\n",
            "Warning: properties incomplete for index 91 = =\n",
            "Warning: properties incomplete for index 92 = *\n",
            "Warning: properties incomplete for index 93 = Z\n",
            "Warning: properties incomplete for index 94 = '\n",
            "Warning: properties incomplete for index 95 = W\n",
            "Warning: properties incomplete for index 96 = ©\n",
            "Warning: properties incomplete for index 97 = ®\n",
            "Warning: properties incomplete for index 98 = ?\n",
            "Warning: properties incomplete for index 99 = ¿\n",
            "Warning: properties incomplete for index 100 = Q\n",
            "Warning: properties incomplete for index 101 = X\n",
            "Warning: properties incomplete for index 102 = Ü\n",
            "Warning: properties incomplete for index 103 = w\n",
            "Warning: properties incomplete for index 104 = %\n",
            "Warning: properties incomplete for index 105 = ü\n",
            "Warning: properties incomplete for index 106 = É\n",
            "Warning: properties incomplete for index 107 = #\n",
            "Warning: properties incomplete for index 108 = <\n",
            "Config file is optional, continuing...\n",
            "Failed to read data from: /content/drive/MyDrive/spa_old/spa_old/spa_old.config\n",
            "Null char=2\n",
            "\n",
            "=== Saving box/tiff pairs for training data ===\n",
            "Moving /tmp/spa_old-2023-05-25.Upo/spa_old.Old_typewriter.exp0.box to train\n",
            "Moving /tmp/spa_old-2023-05-25.Upo/spa_old.Old_typewriter.exp0.tif to train\n",
            "\n",
            "=== Moving lstmf files for training data ===\n",
            "Moving /tmp/spa_old-2023-05-25.Upo/spa_old.Old_typewriter.exp0.lstmf to train\n",
            "\n",
            "Created starter traineddata for LSTM training of language 'spa_old'\n",
            "\n",
            "\n",
            "Run 'lstmtraining' command to continue LSTM training for language 'spa_old'\n",
            "\n"
          ]
        }
      ]
    },
    {
      "cell_type": "markdown",
      "metadata": {
        "id": "Beyzv0w4mdeA"
      },
      "source": [
        "#**#9 FINETUNE**\n",
        "\n",
        "**Trained data will be inside 'Output' folder**\n",
        "\n",
        "\n",
        "\n",
        "Change Max Iteration as per your need. The default here is 200. Increase this value to get less error."
      ]
    },
    {
      "cell_type": "code",
      "metadata": {
        "id": "ZddishLny8Qt",
        "outputId": "13797bb4-ede4-4b0b-a4a5-0ac4ae59a04b",
        "colab": {
          "base_uri": "https://localhost:8080/"
        }
      },
      "source": [
        "%%shell\n",
        "\n",
        "rm -rf output/* \n",
        "OMP_THREAD_LIMIT=16 lstmtraining \\\n",
        "\t--continue_from oldSpa.lstm \\\n",
        "\t--model_output output/oldSpa \\\n",
        "\t--traineddata /content/drive/MyDrive/tesseract/tessdata/spa_old.traineddata \\\n",
        "\t--train_listfile train/spa_old.training_files.txt \\\n",
        "\t--max_iterations 500"
      ],
      "execution_count": null,
      "outputs": [
        {
          "output_type": "stream",
          "name": "stdout",
          "text": [
            "Loaded file oldSpa.lstm, unpacking...\n",
            "Warning: LSTMTrainer deserialized an LSTMRecognizer!\n",
            "Continuing from oldSpa.lstm\n",
            "Loaded 84/84 lines (1-84) of document train/spa_old.Old_typewriter.exp0.lstmf\n",
            "Encoding of string failed! Failure bytes: ffffffe2 ffffff82 ffffffac 2e 20 63 6f 6e 74 72 61 20 65 20 74 6f 73 20 42 75 20 63 61 72 20 61 73 ffffffc3 ffffffad 2c 20 70 ffffffc3 ffffffa1 67 69 6e 61 20 65 6c 20 61 20 31 34 20 6c 61 73 20 79 20 67 72 61 74 69 73 20 65 6e 20 68 61 63 69 61 20 6c 61 73\n",
            "Can't encode transcription: 'Política A adir €. contra e tos Bu car así, página el a 14 las y gratis en hacia las' in language ''\n",
            "Encoding of string failed! Failure bytes: ffffffe2 ffffff82 ffffffac 20 6e 20 70 6f 72 71 75 65 20 75 20 61 73 ffffffc3 ffffffad 20 70 72 6f 64 75 63 74 6f 73 20 43 4c 49 43 4b\n",
            "Can't encode transcription: 'comentarios C:\\Archivos No. los 60 nali tas HP como € n porque u así productos CLICK' in language ''\n",
            "Encoding of string failed! Failure bytes: ffffffe2 ffffff82 ffffffac 20 61 20 5b 49 4d 47 5d 20 63 61 20 6f 2c 20 4f 4b 20 52 4d 5f 53 61 6e 74 69 61 67 6f 20 2f 2f 20 44 65 20 50 75 6e 74 75 61 63 69 ffffffc3 ffffffb3 6e 3a 20 41 72 74 ffffffc3 ffffffad 63 75 6c 6f 73 20 69 20 74 65 6d 61 20 24 20 61 20 6f 73 20 4c 6f 73 20 68 61 79 20 28 36 29 20 45 4e\n",
            "Can't encode transcription: '€ a [IMG] ca o, OK RM_Santiago // De Puntuación: Artículos i tema $ a os Los hay (6) EN' in language ''\n",
            "Encoding of string failed! Failure bytes: ffffffe2 ffffff82 ffffffac 2f 6d 32 20 65 72 76 69 63 69 6f 20 64 65 20 2d 20 58 50 20 6d 61 79 6f 72 20 65 6e 20 4e 6f 74 69 63 69 61 73 20 64 65 20 63 6f 6d 6f\n",
            "Can't encode transcription: 'información Archivo SERVICIOS febrero (1) 17 €/m2 ervicio de - XP mayor en Noticias de como' in language ''\n",
            "Encoding of string failed! Failure bytes: ffffffe2 ffffff82 ffffffac 2e 20 63 6f 6e 74 72 61 20 65 20 74 6f 73 20 42 75 20 63 61 72 20 61 73 ffffffc3 ffffffad 2c 20 70 ffffffc3 ffffffa1 67 69 6e 61 20 65 6c 20 61 20 31 34 20 6c 61 73 20 79 20 67 72 61 74 69 73 20 65 6e 20 68 61 63 69 61 20 6c 61 73\n",
            "Can't encode transcription: 'Política A adir €. contra e tos Bu car así, página el a 14 las y gratis en hacia las' in language ''\n",
            "2 Percent improvement time=90, best error was 100 @ 0\n",
            "At iteration 90/100/105, Mean rms=1.192%, delta=2.617%, char train=8.13%, word train=16.069%, skip ratio=5%,  New best char error = 8.13 Transitioned to stage 1 wrote best model:output/oldSpa8.13_90.checkpoint wrote checkpoint.\n",
            "\n",
            "Encoding of string failed! Failure bytes: ffffffe2 ffffff82 ffffffac 20 6e 20 70 6f 72 71 75 65 20 75 20 61 73 ffffffc3 ffffffad 20 70 72 6f 64 75 63 74 6f 73 20 43 4c 49 43 4b\n",
            "Can't encode transcription: 'comentarios C:\\Archivos No. los 60 nali tas HP como € n porque u así productos CLICK' in language ''\n",
            "Encoding of string failed! Failure bytes: ffffffe2 ffffff82 ffffffac 20 61 20 5b 49 4d 47 5d 20 63 61 20 6f 2c 20 4f 4b 20 52 4d 5f 53 61 6e 74 69 61 67 6f 20 2f 2f 20 44 65 20 50 75 6e 74 75 61 63 69 ffffffc3 ffffffb3 6e 3a 20 41 72 74 ffffffc3 ffffffad 63 75 6c 6f 73 20 69 20 74 65 6d 61 20 24 20 61 20 6f 73 20 4c 6f 73 20 68 61 79 20 28 36 29 20 45 4e\n",
            "Can't encode transcription: '€ a [IMG] ca o, OK RM_Santiago // De Puntuación: Artículos i tema $ a os Los hay (6) EN' in language ''\n",
            "Encoding of string failed! Failure bytes: ffffffe2 ffffff82 ffffffac 2f 6d 32 20 65 72 76 69 63 69 6f 20 64 65 20 2d 20 58 50 20 6d 61 79 6f 72 20 65 6e 20 4e 6f 74 69 63 69 61 73 20 64 65 20 63 6f 6d 6f\n",
            "Can't encode transcription: 'información Archivo SERVICIOS febrero (1) 17 €/m2 ervicio de - XP mayor en Noticias de como' in language ''\n",
            "Encoding of string failed! Failure bytes: ffffffe2 ffffff82 ffffffac 2e 20 63 6f 6e 74 72 61 20 65 20 74 6f 73 20 42 75 20 63 61 72 20 61 73 ffffffc3 ffffffad 2c 20 70 ffffffc3 ffffffa1 67 69 6e 61 20 65 6c 20 61 20 31 34 20 6c 61 73 20 79 20 67 72 61 74 69 73 20 65 6e 20 68 61 63 69 61 20 6c 61 73\n",
            "Can't encode transcription: 'Política A adir €. contra e tos Bu car así, página el a 14 las y gratis en hacia las' in language ''\n",
            "Encoding of string failed! Failure bytes: ffffffe2 ffffff82 ffffffac 20 6e 20 70 6f 72 71 75 65 20 75 20 61 73 ffffffc3 ffffffad 20 70 72 6f 64 75 63 74 6f 73 20 43 4c 49 43 4b\n",
            "Can't encode transcription: 'comentarios C:\\Archivos No. los 60 nali tas HP como € n porque u así productos CLICK' in language ''\n",
            "Encoding of string failed! Failure bytes: ffffffe2 ffffff82 ffffffac 20 61 20 5b 49 4d 47 5d 20 63 61 20 6f 2c 20 4f 4b 20 52 4d 5f 53 61 6e 74 69 61 67 6f 20 2f 2f 20 44 65 20 50 75 6e 74 75 61 63 69 ffffffc3 ffffffb3 6e 3a 20 41 72 74 ffffffc3 ffffffad 63 75 6c 6f 73 20 69 20 74 65 6d 61 20 24 20 61 20 6f 73 20 4c 6f 73 20 68 61 79 20 28 36 29 20 45 4e\n",
            "Can't encode transcription: '€ a [IMG] ca o, OK RM_Santiago // De Puntuación: Artículos i tema $ a os Los hay (6) EN' in language ''\n",
            "2 Percent improvement time=172, best error was 100 @ 0\n",
            "At iteration 172/200/211, Mean rms=1.021%, delta=1.925%, char train=6.207%, word train=13.049%, skip ratio=5.5%,  New best char error = 6.207 wrote best model:output/oldSpa6.207_172.checkpoint wrote checkpoint.\n",
            "\n",
            "Encoding of string failed! Failure bytes: ffffffe2 ffffff82 ffffffac 2f 6d 32 20 65 72 76 69 63 69 6f 20 64 65 20 2d 20 58 50 20 6d 61 79 6f 72 20 65 6e 20 4e 6f 74 69 63 69 61 73 20 64 65 20 63 6f 6d 6f\n",
            "Can't encode transcription: 'información Archivo SERVICIOS febrero (1) 17 €/m2 ervicio de - XP mayor en Noticias de como' in language ''\n",
            "Encoding of string failed! Failure bytes: ffffffe2 ffffff82 ffffffac 2e 20 63 6f 6e 74 72 61 20 65 20 74 6f 73 20 42 75 20 63 61 72 20 61 73 ffffffc3 ffffffad 2c 20 70 ffffffc3 ffffffa1 67 69 6e 61 20 65 6c 20 61 20 31 34 20 6c 61 73 20 79 20 67 72 61 74 69 73 20 65 6e 20 68 61 63 69 61 20 6c 61 73\n",
            "Can't encode transcription: 'Política A adir €. contra e tos Bu car así, página el a 14 las y gratis en hacia las' in language ''\n",
            "Encoding of string failed! Failure bytes: ffffffe2 ffffff82 ffffffac 20 6e 20 70 6f 72 71 75 65 20 75 20 61 73 ffffffc3 ffffffad 20 70 72 6f 64 75 63 74 6f 73 20 43 4c 49 43 4b\n",
            "Can't encode transcription: 'comentarios C:\\Archivos No. los 60 nali tas HP como € n porque u así productos CLICK' in language ''\n",
            "Encoding of string failed! Failure bytes: ffffffe2 ffffff82 ffffffac 20 61 20 5b 49 4d 47 5d 20 63 61 20 6f 2c 20 4f 4b 20 52 4d 5f 53 61 6e 74 69 61 67 6f 20 2f 2f 20 44 65 20 50 75 6e 74 75 61 63 69 ffffffc3 ffffffb3 6e 3a 20 41 72 74 ffffffc3 ffffffad 63 75 6c 6f 73 20 69 20 74 65 6d 61 20 24 20 61 20 6f 73 20 4c 6f 73 20 68 61 79 20 28 36 29 20 45 4e\n",
            "Can't encode transcription: '€ a [IMG] ca o, OK RM_Santiago // De Puntuación: Artículos i tema $ a os Los hay (6) EN' in language ''\n",
            "Encoding of string failed! Failure bytes: ffffffe2 ffffff82 ffffffac 2f 6d 32 20 65 72 76 69 63 69 6f 20 64 65 20 2d 20 58 50 20 6d 61 79 6f 72 20 65 6e 20 4e 6f 74 69 63 69 61 73 20 64 65 20 63 6f 6d 6f\n",
            "Can't encode transcription: 'información Archivo SERVICIOS febrero (1) 17 €/m2 ervicio de - XP mayor en Noticias de como' in language ''\n",
            "2 Percent improvement time=158, best error was 8.13 @ 90\n",
            "At iteration 248/300/316, Mean rms=0.92%, delta=1.585%, char train=5.221%, word train=11.415%, skip ratio=5.333%,  New best char error = 5.221 wrote best model:output/oldSpa5.221_248.checkpoint wrote checkpoint.\n",
            "\n",
            "Encoding of string failed! Failure bytes: ffffffe2 ffffff82 ffffffac 2e 20 63 6f 6e 74 72 61 20 65 20 74 6f 73 20 42 75 20 63 61 72 20 61 73 ffffffc3 ffffffad 2c 20 70 ffffffc3 ffffffa1 67 69 6e 61 20 65 6c 20 61 20 31 34 20 6c 61 73 20 79 20 67 72 61 74 69 73 20 65 6e 20 68 61 63 69 61 20 6c 61 73\n",
            "Can't encode transcription: 'Política A adir €. contra e tos Bu car así, página el a 14 las y gratis en hacia las' in language ''\n",
            "Encoding of string failed! Failure bytes: ffffffe2 ffffff82 ffffffac 20 6e 20 70 6f 72 71 75 65 20 75 20 61 73 ffffffc3 ffffffad 20 70 72 6f 64 75 63 74 6f 73 20 43 4c 49 43 4b\n",
            "Can't encode transcription: 'comentarios C:\\Archivos No. los 60 nali tas HP como € n porque u así productos CLICK' in language ''\n",
            "Encoding of string failed! Failure bytes: ffffffe2 ffffff82 ffffffac 20 61 20 5b 49 4d 47 5d 20 63 61 20 6f 2c 20 4f 4b 20 52 4d 5f 53 61 6e 74 69 61 67 6f 20 2f 2f 20 44 65 20 50 75 6e 74 75 61 63 69 ffffffc3 ffffffb3 6e 3a 20 41 72 74 ffffffc3 ffffffad 63 75 6c 6f 73 20 69 20 74 65 6d 61 20 24 20 61 20 6f 73 20 4c 6f 73 20 68 61 79 20 28 36 29 20 45 4e\n",
            "Can't encode transcription: '€ a [IMG] ca o, OK RM_Santiago // De Puntuación: Artículos i tema $ a os Los hay (6) EN' in language ''\n",
            "Encoding of string failed! Failure bytes: ffffffe2 ffffff82 ffffffac 2f 6d 32 20 65 72 76 69 63 69 6f 20 64 65 20 2d 20 58 50 20 6d 61 79 6f 72 20 65 6e 20 4e 6f 74 69 63 69 61 73 20 64 65 20 63 6f 6d 6f\n",
            "Can't encode transcription: 'información Archivo SERVICIOS febrero (1) 17 €/m2 ervicio de - XP mayor en Noticias de como' in language ''\n",
            "2 Percent improvement time=227, best error was 8.13 @ 90\n",
            "At iteration 317/400/420, Mean rms=0.848%, delta=1.379%, char train=4.597%, word train=10.194%, skip ratio=5%,  New best char error = 4.597 wrote best model:output/oldSpa4.597_317.checkpoint wrote checkpoint.\n",
            "\n",
            "Encoding of string failed! Failure bytes: ffffffe2 ffffff82 ffffffac 2e 20 63 6f 6e 74 72 61 20 65 20 74 6f 73 20 42 75 20 63 61 72 20 61 73 ffffffc3 ffffffad 2c 20 70 ffffffc3 ffffffa1 67 69 6e 61 20 65 6c 20 61 20 31 34 20 6c 61 73 20 79 20 67 72 61 74 69 73 20 65 6e 20 68 61 63 69 61 20 6c 61 73\n",
            "Can't encode transcription: 'Política A adir €. contra e tos Bu car así, página el a 14 las y gratis en hacia las' in language ''\n",
            "Encoding of string failed! Failure bytes: ffffffe2 ffffff82 ffffffac 20 6e 20 70 6f 72 71 75 65 20 75 20 61 73 ffffffc3 ffffffad 20 70 72 6f 64 75 63 74 6f 73 20 43 4c 49 43 4b\n",
            "Can't encode transcription: 'comentarios C:\\Archivos No. los 60 nali tas HP como € n porque u así productos CLICK' in language ''\n",
            "Encoding of string failed! Failure bytes: ffffffe2 ffffff82 ffffffac 20 61 20 5b 49 4d 47 5d 20 63 61 20 6f 2c 20 4f 4b 20 52 4d 5f 53 61 6e 74 69 61 67 6f 20 2f 2f 20 44 65 20 50 75 6e 74 75 61 63 69 ffffffc3 ffffffb3 6e 3a 20 41 72 74 ffffffc3 ffffffad 63 75 6c 6f 73 20 69 20 74 65 6d 61 20 24 20 61 20 6f 73 20 4c 6f 73 20 68 61 79 20 28 36 29 20 45 4e\n",
            "Can't encode transcription: '€ a [IMG] ca o, OK RM_Santiago // De Puntuación: Artículos i tema $ a os Los hay (6) EN' in language ''\n",
            "Encoding of string failed! Failure bytes: ffffffe2 ffffff82 ffffffac 2f 6d 32 20 65 72 76 69 63 69 6f 20 64 65 20 2d 20 58 50 20 6d 61 79 6f 72 20 65 6e 20 4e 6f 74 69 63 69 61 73 20 64 65 20 63 6f 6d 6f\n",
            "Can't encode transcription: 'información Archivo SERVICIOS febrero (1) 17 €/m2 ervicio de - XP mayor en Noticias de como' in language ''\n",
            "Encoding of string failed! Failure bytes: ffffffe2 ffffff82 ffffffac 2e 20 63 6f 6e 74 72 61 20 65 20 74 6f 73 20 42 75 20 63 61 72 20 61 73 ffffffc3 ffffffad 2c 20 70 ffffffc3 ffffffa1 67 69 6e 61 20 65 6c 20 61 20 31 34 20 6c 61 73 20 79 20 67 72 61 74 69 73 20 65 6e 20 68 61 63 69 61 20 6c 61 73\n",
            "Can't encode transcription: 'Política A adir €. contra e tos Bu car así, página el a 14 las y gratis en hacia las' in language ''\n",
            "2 Percent improvement time=203, best error was 6.207 @ 172\n",
            "At iteration 375/500/525, Mean rms=0.784%, delta=1.208%, char train=4.087%, word train=9.119%, skip ratio=5%,  New best char error = 4.087 wrote best model:output/oldSpa4.087_375.checkpoint wrote checkpoint.\n",
            "\n",
            "Finished! Error rate = 4.087\n"
          ]
        },
        {
          "output_type": "execute_result",
          "data": {
            "text/plain": []
          },
          "metadata": {},
          "execution_count": 11
        }
      ]
    },
    {
      "cell_type": "markdown",
      "metadata": {
        "id": "J_gREJArnCl2"
      },
      "source": [
        "#**#10 GET TRAINED DATA**\n",
        "\n",
        "This command will create trained data from fontname.checkpoint. <br><br>\n",
        "This will be inside Output folder."
      ]
    },
    {
      "cell_type": "code",
      "metadata": {
        "id": "1wPmBN9IM7Fx",
        "outputId": "7ee8266a-b880-4275-f85f-f6cdf0bd20ca",
        "colab": {
          "base_uri": "https://localhost:8080/"
        }
      },
      "source": [
        "%%shell\n",
        "\n",
        "lstmtraining --stop_training \\\n",
        "\t--continue_from output/oldSpa_checkpoint \\\n",
        "\t--traineddata /content/drive/MyDrive/tesseract/tessdata/spa_old.traineddata \\\n",
        "\t--model_output output/spa_old.traineddata"
      ],
      "execution_count": null,
      "outputs": [
        {
          "output_type": "stream",
          "name": "stdout",
          "text": [
            "Loaded file output/oldSpa_checkpoint, unpacking...\n"
          ]
        },
        {
          "output_type": "execute_result",
          "data": {
            "text/plain": []
          },
          "metadata": {},
          "execution_count": 13
        }
      ]
    },
    {
      "cell_type": "markdown",
      "metadata": {
        "id": "Kk6u1hs4o2jE"
      },
      "source": [
        "#**HOW TO USE IT ?**\n",
        "\n",
        "\n",
        "---\n",
        "Download and paste the fontname.taineddata inside this location\n",
        "\n",
        "** FOR WINDOWS :**\n",
        "\n",
        "---\n",
        "\n",
        "\n",
        "C:\\Program Files\\Tesseract-OCR\\tessdata\n",
        "\n",
        "**FIRE THIS IN COMMAND LINE IN COMMAND PROMPT**\n",
        "\n",
        "---\n",
        "*tesseract.exe imagename textfile -l fontname*\n",
        "\n",
        "***example : ***: \n",
        "\n",
        "---\n",
        "\n",
        "\n",
        "*tesseract.exe image.jpg text.txt -l fontname*\n",
        "\n",
        "\n"
      ]
    }
  ]
}